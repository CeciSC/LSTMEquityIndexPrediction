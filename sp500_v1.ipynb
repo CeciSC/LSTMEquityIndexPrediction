{
  "nbformat": 4,
  "nbformat_minor": 0,
  "metadata": {
    "colab": {
      "name": "sp500_ver1.ipynb",
      "provenance": [],
      "collapsed_sections": [],
      "include_colab_link": true
    },
    "kernelspec": {
      "name": "python3",
      "display_name": "Python 3"
    }
  },
  "cells": [
    {
      "cell_type": "markdown",
      "metadata": {
        "id": "view-in-github",
        "colab_type": "text"
      },
      "source": [
        "<a href=\"https://colab.research.google.com/github/CeciSC/LSTMEquityIndexPrediction/blob/main/sp500_v1.ipynb\" target=\"_parent\"><img src=\"https://colab.research.google.com/assets/colab-badge.svg\" alt=\"Open In Colab\"/></a>"
      ]
    },
    {
      "cell_type": "code",
      "metadata": {
        "id": "tul4io6aHCvC"
      },
      "source": [
        ""
      ],
      "execution_count": null,
      "outputs": []
    },
    {
      "cell_type": "markdown",
      "metadata": {
        "id": "M3lTqCqrbQee"
      },
      "source": [
        "Add S&P 500 and HS300"
      ]
    },
    {
      "cell_type": "code",
      "metadata": {
        "id": "l7A2VcVuHCEj",
        "outputId": "2a076ba5-5e4f-4dcd-9bd0-81550e7ca8d5",
        "colab": {
          "base_uri": "https://localhost:8080/",
          "height": 34
        }
      },
      "source": [
        "import tensorflow as tf\n",
        "\n",
        "tf.compat.v1.disable_eager_execution()\n",
        "\n",
        "print(tf.__version__)\n"
      ],
      "execution_count": null,
      "outputs": [
        {
          "output_type": "stream",
          "text": [
            "2.3.0\n"
          ],
          "name": "stdout"
        }
      ]
    },
    {
      "cell_type": "code",
      "metadata": {
        "id": "WDhXW3h7EKBD"
      },
      "source": [
        "from keras.layers import Input, Dense, LSTM\n",
        "from keras.models import Model\n",
        "from keras.layers import *\n",
        "from keras.models import *\n",
        "from keras.optimizers import Adam\n",
        "from keras.callbacks import EarlyStopping\n",
        "from keras import backend as K\n",
        "from keras.engine.topology import Layer\n",
        "from keras import initializers"
      ],
      "execution_count": null,
      "outputs": []
    },
    {
      "cell_type": "code",
      "metadata": {
        "id": "NrDHby2JEPHA"
      },
      "source": [
        "import pandas as pd\n",
        "import numpy as np\n",
        "import tensorflow as tf\n",
        "import matplotlib.pyplot as plt\n",
        "%matplotlib inline\n",
        "from sklearn.preprocessing import MinMaxScaler\n",
        "import time"
      ],
      "execution_count": null,
      "outputs": []
    },
    {
      "cell_type": "code",
      "metadata": {
        "id": "KwuoL_-vEPPo",
        "outputId": "0f3815c2-7d22-402c-f2c8-7872f0da5e82",
        "colab": {
          "resources": {
            "http://localhost:8080/nbextensions/google.colab/files.js": {
              "data": "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",
              "ok": true,
              "headers": [
                [
                  "content-type",
                  "application/javascript"
                ]
              ],
              "status": 200,
              "status_text": ""
            }
          },
          "base_uri": "https://localhost:8080/",
          "height": 72
        }
      },
      "source": [
        "from google.colab import files\n",
        "uploaded = files.upload()"
      ],
      "execution_count": null,
      "outputs": [
        {
          "output_type": "display_data",
          "data": {
            "text/html": [
              "\n",
              "     <input type=\"file\" id=\"files-de408ea9-6775-4a4e-ac87-9278872e149f\" name=\"files[]\" multiple disabled\n",
              "        style=\"border:none\" />\n",
              "     <output id=\"result-de408ea9-6775-4a4e-ac87-9278872e149f\">\n",
              "      Upload widget is only available when the cell has been executed in the\n",
              "      current browser session. Please rerun this cell to enable.\n",
              "      </output>\n",
              "      <script src=\"/nbextensions/google.colab/files.js\"></script> "
            ],
            "text/plain": [
              "<IPython.core.display.HTML object>"
            ]
          },
          "metadata": {
            "tags": []
          }
        },
        {
          "output_type": "stream",
          "text": [
            "Saving sp500_price.csv to sp500_price.csv\n"
          ],
          "name": "stdout"
        }
      ]
    },
    {
      "cell_type": "code",
      "metadata": {
        "id": "04_qCMjlEPSw",
        "outputId": "4f56bb18-15fc-4a82-9e30-3215f7bcc9a9",
        "colab": {
          "base_uri": "https://localhost:8080/",
          "height": 419
        }
      },
      "source": [
        "import pandas as pd\n",
        "import io\n",
        "\n",
        "df = pd.read_csv(io.StringIO(uploaded['sp500_price.csv'].decode('utf-8')))\n",
        "df"
      ],
      "execution_count": null,
      "outputs": [
        {
          "output_type": "execute_result",
          "data": {
            "text/html": [
              "<div>\n",
              "<style scoped>\n",
              "    .dataframe tbody tr th:only-of-type {\n",
              "        vertical-align: middle;\n",
              "    }\n",
              "\n",
              "    .dataframe tbody tr th {\n",
              "        vertical-align: top;\n",
              "    }\n",
              "\n",
              "    .dataframe thead th {\n",
              "        text-align: right;\n",
              "    }\n",
              "</style>\n",
              "<table border=\"1\" class=\"dataframe\">\n",
              "  <thead>\n",
              "    <tr style=\"text-align: right;\">\n",
              "      <th></th>\n",
              "      <th>Date</th>\n",
              "      <th>Open</th>\n",
              "      <th>High</th>\n",
              "      <th>Low</th>\n",
              "      <th>Close</th>\n",
              "      <th>Adj Close</th>\n",
              "      <th>Volume</th>\n",
              "    </tr>\n",
              "  </thead>\n",
              "  <tbody>\n",
              "    <tr>\n",
              "      <th>0</th>\n",
              "      <td>2010-01-04</td>\n",
              "      <td>1116.560059</td>\n",
              "      <td>1133.869995</td>\n",
              "      <td>1116.560059</td>\n",
              "      <td>1132.989990</td>\n",
              "      <td>1132.989990</td>\n",
              "      <td>3991400000</td>\n",
              "    </tr>\n",
              "    <tr>\n",
              "      <th>1</th>\n",
              "      <td>2010-01-05</td>\n",
              "      <td>1132.660034</td>\n",
              "      <td>1136.630005</td>\n",
              "      <td>1129.660034</td>\n",
              "      <td>1136.520020</td>\n",
              "      <td>1136.520020</td>\n",
              "      <td>2491020000</td>\n",
              "    </tr>\n",
              "    <tr>\n",
              "      <th>2</th>\n",
              "      <td>2010-01-06</td>\n",
              "      <td>1135.709961</td>\n",
              "      <td>1139.189941</td>\n",
              "      <td>1133.949951</td>\n",
              "      <td>1137.140015</td>\n",
              "      <td>1137.140015</td>\n",
              "      <td>4972660000</td>\n",
              "    </tr>\n",
              "    <tr>\n",
              "      <th>3</th>\n",
              "      <td>2010-01-07</td>\n",
              "      <td>1136.270020</td>\n",
              "      <td>1142.459961</td>\n",
              "      <td>1131.319946</td>\n",
              "      <td>1141.689941</td>\n",
              "      <td>1141.689941</td>\n",
              "      <td>5270680000</td>\n",
              "    </tr>\n",
              "    <tr>\n",
              "      <th>4</th>\n",
              "      <td>2010-01-08</td>\n",
              "      <td>1140.520020</td>\n",
              "      <td>1145.390015</td>\n",
              "      <td>1136.219971</td>\n",
              "      <td>1144.979980</td>\n",
              "      <td>1144.979980</td>\n",
              "      <td>4389590000</td>\n",
              "    </tr>\n",
              "    <tr>\n",
              "      <th>...</th>\n",
              "      <td>...</td>\n",
              "      <td>...</td>\n",
              "      <td>...</td>\n",
              "      <td>...</td>\n",
              "      <td>...</td>\n",
              "      <td>...</td>\n",
              "      <td>...</td>\n",
              "    </tr>\n",
              "    <tr>\n",
              "      <th>2510</th>\n",
              "      <td>2019-12-23</td>\n",
              "      <td>3226.050049</td>\n",
              "      <td>3227.780029</td>\n",
              "      <td>3222.300049</td>\n",
              "      <td>3224.010010</td>\n",
              "      <td>3224.010010</td>\n",
              "      <td>3060610000</td>\n",
              "    </tr>\n",
              "    <tr>\n",
              "      <th>2511</th>\n",
              "      <td>2019-12-24</td>\n",
              "      <td>3225.449951</td>\n",
              "      <td>3226.429932</td>\n",
              "      <td>3220.510010</td>\n",
              "      <td>3223.379883</td>\n",
              "      <td>3223.379883</td>\n",
              "      <td>1296540000</td>\n",
              "    </tr>\n",
              "    <tr>\n",
              "      <th>2512</th>\n",
              "      <td>2019-12-26</td>\n",
              "      <td>3227.199951</td>\n",
              "      <td>3240.080078</td>\n",
              "      <td>3227.199951</td>\n",
              "      <td>3239.909912</td>\n",
              "      <td>3239.909912</td>\n",
              "      <td>2160680000</td>\n",
              "    </tr>\n",
              "    <tr>\n",
              "      <th>2513</th>\n",
              "      <td>2019-12-27</td>\n",
              "      <td>3247.229980</td>\n",
              "      <td>3247.929932</td>\n",
              "      <td>3234.370117</td>\n",
              "      <td>3240.020020</td>\n",
              "      <td>3240.020020</td>\n",
              "      <td>2428670000</td>\n",
              "    </tr>\n",
              "    <tr>\n",
              "      <th>2514</th>\n",
              "      <td>2019-12-30</td>\n",
              "      <td>3240.090088</td>\n",
              "      <td>3240.919922</td>\n",
              "      <td>3216.570068</td>\n",
              "      <td>3221.290039</td>\n",
              "      <td>3221.290039</td>\n",
              "      <td>3013290000</td>\n",
              "    </tr>\n",
              "  </tbody>\n",
              "</table>\n",
              "<p>2515 rows × 7 columns</p>\n",
              "</div>"
            ],
            "text/plain": [
              "            Date         Open  ...    Adj Close      Volume\n",
              "0     2010-01-04  1116.560059  ...  1132.989990  3991400000\n",
              "1     2010-01-05  1132.660034  ...  1136.520020  2491020000\n",
              "2     2010-01-06  1135.709961  ...  1137.140015  4972660000\n",
              "3     2010-01-07  1136.270020  ...  1141.689941  5270680000\n",
              "4     2010-01-08  1140.520020  ...  1144.979980  4389590000\n",
              "...          ...          ...  ...          ...         ...\n",
              "2510  2019-12-23  3226.050049  ...  3224.010010  3060610000\n",
              "2511  2019-12-24  3225.449951  ...  3223.379883  1296540000\n",
              "2512  2019-12-26  3227.199951  ...  3239.909912  2160680000\n",
              "2513  2019-12-27  3247.229980  ...  3240.020020  2428670000\n",
              "2514  2019-12-30  3240.090088  ...  3221.290039  3013290000\n",
              "\n",
              "[2515 rows x 7 columns]"
            ]
          },
          "metadata": {
            "tags": []
          },
          "execution_count": 5
        }
      ]
    },
    {
      "cell_type": "code",
      "metadata": {
        "id": "hm7I3P-jFs-V",
        "outputId": "d6d87f2c-3df3-4157-a82c-a2a4acbf863f",
        "colab": {
          "base_uri": "https://localhost:8080/",
          "height": 153
        }
      },
      "source": [
        "df.dtypes"
      ],
      "execution_count": null,
      "outputs": [
        {
          "output_type": "execute_result",
          "data": {
            "text/plain": [
              "Date          object\n",
              "Open         float64\n",
              "High         float64\n",
              "Low          float64\n",
              "Close        float64\n",
              "Adj Close    float64\n",
              "Volume         int64\n",
              "dtype: object"
            ]
          },
          "metadata": {
            "tags": []
          },
          "execution_count": 6
        }
      ]
    },
    {
      "cell_type": "code",
      "metadata": {
        "id": "mWI7k_MxF4k9",
        "outputId": "879b6dba-f917-4daf-f852-3a86930dcdfc",
        "colab": {
          "base_uri": "https://localhost:8080/",
          "height": 204
        }
      },
      "source": [
        "df[['Volume']] = df[['Volume']].astype('float')\n",
        "\n",
        "df_feature = df[['Close','Open','High','Low','Volume']]\n",
        "df_feature.columns = [['close','open','high','low','volume']]\n",
        "df_feature.head()"
      ],
      "execution_count": null,
      "outputs": [
        {
          "output_type": "execute_result",
          "data": {
            "text/html": [
              "<div>\n",
              "<style scoped>\n",
              "    .dataframe tbody tr th:only-of-type {\n",
              "        vertical-align: middle;\n",
              "    }\n",
              "\n",
              "    .dataframe tbody tr th {\n",
              "        vertical-align: top;\n",
              "    }\n",
              "\n",
              "    .dataframe thead tr th {\n",
              "        text-align: left;\n",
              "    }\n",
              "</style>\n",
              "<table border=\"1\" class=\"dataframe\">\n",
              "  <thead>\n",
              "    <tr>\n",
              "      <th></th>\n",
              "      <th>close</th>\n",
              "      <th>open</th>\n",
              "      <th>high</th>\n",
              "      <th>low</th>\n",
              "      <th>volume</th>\n",
              "    </tr>\n",
              "  </thead>\n",
              "  <tbody>\n",
              "    <tr>\n",
              "      <th>0</th>\n",
              "      <td>1132.989990</td>\n",
              "      <td>1116.560059</td>\n",
              "      <td>1133.869995</td>\n",
              "      <td>1116.560059</td>\n",
              "      <td>3.991400e+09</td>\n",
              "    </tr>\n",
              "    <tr>\n",
              "      <th>1</th>\n",
              "      <td>1136.520020</td>\n",
              "      <td>1132.660034</td>\n",
              "      <td>1136.630005</td>\n",
              "      <td>1129.660034</td>\n",
              "      <td>2.491020e+09</td>\n",
              "    </tr>\n",
              "    <tr>\n",
              "      <th>2</th>\n",
              "      <td>1137.140015</td>\n",
              "      <td>1135.709961</td>\n",
              "      <td>1139.189941</td>\n",
              "      <td>1133.949951</td>\n",
              "      <td>4.972660e+09</td>\n",
              "    </tr>\n",
              "    <tr>\n",
              "      <th>3</th>\n",
              "      <td>1141.689941</td>\n",
              "      <td>1136.270020</td>\n",
              "      <td>1142.459961</td>\n",
              "      <td>1131.319946</td>\n",
              "      <td>5.270680e+09</td>\n",
              "    </tr>\n",
              "    <tr>\n",
              "      <th>4</th>\n",
              "      <td>1144.979980</td>\n",
              "      <td>1140.520020</td>\n",
              "      <td>1145.390015</td>\n",
              "      <td>1136.219971</td>\n",
              "      <td>4.389590e+09</td>\n",
              "    </tr>\n",
              "  </tbody>\n",
              "</table>\n",
              "</div>"
            ],
            "text/plain": [
              "         close         open         high          low        volume\n",
              "0  1132.989990  1116.560059  1133.869995  1116.560059  3.991400e+09\n",
              "1  1136.520020  1132.660034  1136.630005  1129.660034  2.491020e+09\n",
              "2  1137.140015  1135.709961  1139.189941  1133.949951  4.972660e+09\n",
              "3  1141.689941  1136.270020  1142.459961  1131.319946  5.270680e+09\n",
              "4  1144.979980  1140.520020  1145.390015  1136.219971  4.389590e+09"
            ]
          },
          "metadata": {
            "tags": []
          },
          "execution_count": 9
        }
      ]
    },
    {
      "cell_type": "code",
      "metadata": {
        "id": "kiJVk-pC2J_c",
        "outputId": "ef208d76-aa0e-4173-fc93-2883fc13bdb2",
        "colab": {
          "base_uri": "https://localhost:8080/",
          "height": 295
        }
      },
      "source": [
        "### EDA\n",
        "plt.figure()\n",
        "plt.plot(df_feature[[\"open\"]])\n",
        "plt.plot(df_feature[[\"high\"]])\n",
        "plt.plot(df_feature[[\"low\"]])\n",
        "plt.plot(df[[\"Adj Close\"]])\n",
        "plt.title('S&P 500 history')\n",
        "plt.ylabel('S&P 500 (USD)')\n",
        "plt.xlabel('Days')\n",
        "plt.legend(['open','high','low','Adj Close'], loc='upper left')\n",
        "plt.show()\n"
      ],
      "execution_count": null,
      "outputs": [
        {
          "output_type": "display_data",
          "data": {
            "image/png": "[encoded data removed]",
            "text/plain": [
              "<Figure size 432x288 with 1 Axes>"
            ]
          },
          "metadata": {
            "tags": [],
            "needs_background": "light"
          }
        }
      ]
    },
    {
      "cell_type": "code",
      "metadata": {
        "id": "JUmgEKJr2J-M"
      },
      "source": [
        ""
      ],
      "execution_count": null,
      "outputs": []
    },
    {
      "cell_type": "code",
      "metadata": {
        "id": "lsdP5PMSF6m9",
        "outputId": "0b2472e6-a086-42e7-eb82-7da7d855c0dc",
        "colab": {
          "base_uri": "https://localhost:8080/",
          "height": 34
        }
      },
      "source": [
        "data_train = df_feature.iloc[:2013, :]\n",
        "data_test = df_feature.iloc[2013:, :]\n",
        "print(data_train.shape, data_test.shape)"
      ],
      "execution_count": null,
      "outputs": [
        {
          "output_type": "stream",
          "text": [
            "(2013, 5) (502, 5)\n"
          ],
          "name": "stdout"
        }
      ]
    },
    {
      "cell_type": "code",
      "metadata": {
        "id": "_r9l_WlrF8Wx"
      },
      "source": [
        "# 一阶差分\n",
        "scaler = MinMaxScaler(feature_range = (0,1))\n",
        "train = scaler.fit_transform(data_train)\n",
        "test = scaler.transform(data_test)"
      ],
      "execution_count": null,
      "outputs": []
    },
    {
      "cell_type": "code",
      "metadata": {
        "id": "ITyvWx0WF-gg",
        "outputId": "3638e3d2-2042-4d8e-e1ec-40c3c8df46eb",
        "colab": {
          "base_uri": "https://localhost:8080/",
          "height": 34
        }
      },
      "source": [
        "y_train = np.array(df_feature.iloc[:2013, 0])\n",
        "y_test = np.array(df_feature.iloc[2013:, 0])\n",
        "print(y_train.shape, y_test.shape)"
      ],
      "execution_count": null,
      "outputs": [
        {
          "output_type": "stream",
          "text": [
            "(2013,) (502,)\n"
          ],
          "name": "stdout"
        }
      ]
    },
    {
      "cell_type": "code",
      "metadata": {
        "id": "GvLb8aZDGBKJ"
      },
      "source": [
        "past_steps = 15\n",
        "next_steps = 1"
      ],
      "execution_count": null,
      "outputs": []
    },
    {
      "cell_type": "code",
      "metadata": {
        "id": "m5k-dTA1GC-Y"
      },
      "source": [
        "X_train = np.array([train[i : i + past_steps, :] for i in range(0, train.shape[0] - (next_steps+ past_steps),1)])\n",
        "X_test = np.array([test[i : i + past_steps, :] for i in range(0, test.shape[0] - (next_steps+ past_steps),1)])\n"
      ],
      "execution_count": null,
      "outputs": []
    },
    {
      "cell_type": "code",
      "metadata": {
        "id": "M0glgSDHGEPC"
      },
      "source": [
        "y_train_regression = np.array([y_train[i + past_steps + next_steps] for i in range(0,train.shape[0] - (next_steps+ past_steps),1)])\n",
        "y_test_regression = np.array([y_test[i + past_steps + next_steps] for i in range(0,test.shape[0] - (next_steps+ past_steps),1)])\n"
      ],
      "execution_count": null,
      "outputs": []
    },
    {
      "cell_type": "code",
      "metadata": {
        "id": "DNCqalXZGFeV"
      },
      "source": [
        "INPUT_DIM = data_train.shape[1]\n",
        "output_dim = 1\n",
        "batch_size = 8 #每轮训练模型时，样本的数量\n",
        "epochs = 2000 #训练60轮次\n",
        "hidden_size = 128\n",
        "lstm_units = 64"
      ],
      "execution_count": null,
      "outputs": []
    },
    {
      "cell_type": "code",
      "metadata": {
        "id": "AJ9WbmFqIIwg"
      },
      "source": [
        "def LSTM_fun_keras_att(n_input,train_x,train_y,predict_x,prediction_y,seq_len=5):\n",
        "    tf.compat.v1.keras.backend.get_session().close()\n",
        "    tf.compat.v1.keras.backend.set_session(tf.compat.v1.Session())\n",
        "    tf.compat.v1.keras.backend.get_session().run(tf.compat.v1.global_variables_initializer())\n",
        "    inputs = Input(shape=(seq_len, n_input))\n",
        "    #drop1 = Dropout(0.3)(inputs)\n",
        "    x = Conv1D(filters = 32, kernel_size = 1, activation = 'relu')(inputs)  #, padding = 'same'\n",
        "    #x = Conv1D(filters=128, kernel_size=5, activation='relu')(output1)#embedded_sequences\n",
        "    x = MaxPooling1D(pool_size = past_steps)(x)\n",
        "    x = Dropout(0.1)(x)\n",
        "    print(x.shape)\n",
        "    lstm_out = Bidirectional(LSTM(32, activation='relu'), name='bilstm')(x)\n",
        "    #lstm_out = LSTM(lstm_units,activation='relu')(x)\n",
        "    print(lstm_out.shape)\n",
        "    # ATTENTION PART STARTS HERE\n",
        "    attention_probs = Dense(64, activation='sigmoid', name='attention_vec')(lstm_out)\n",
        "    #attention_mul=layers.merge([stm_out,attention_probs], output_shape],mode='concat',concat_axis=1))\n",
        "    attention_mul =Multiply()([lstm_out, attention_probs])\n",
        "    #attention_mul = merge([lstm_out, attention_probs],output_shape=32, name='attention_mul', mode='mul')\n",
        "    output = Dense(1, activation='linear')(attention_mul)\n",
        "    #output = Dense(10, activation='sigmoid')(drop2)\n",
        "\n",
        "    model = Model(inputs=inputs, outputs=output)\n",
        "    print(model.summary())\n",
        "    model.compile(loss='mse', optimizer='adam')\n",
        "    #model_class.compile(optimizer='rmsprop',loss='binary_crossentropy',metrics=['accuracy'])\n",
        "    # simple early stopping\n",
        "    es = EarlyStopping(monitor='val_loss', mode='min', verbose=1, patience=2)\n",
        "    # fit model\n",
        "    history = model.fit(train_x, train_y,validation_split=0.1, epochs=epochs, batch_size=1, shuffle=False, verbose=2, callbacks=[es])\n",
        "    #history = model.fit(train_x, train_y, epochs=100, batch_size=1, shuffle=False)\n",
        "    y_pred = model.predict(predict_x)\n",
        "    return y_pred"
      ],
      "execution_count": null,
      "outputs": []
    },
    {
      "cell_type": "code",
      "metadata": {
        "id": "EH8ewWWIGPxj",
        "outputId": "8b2046f7-cf52-4c2d-c03e-570b0899503c",
        "colab": {
          "base_uri": "https://localhost:8080/",
          "height": 765
        }
      },
      "source": [
        "y_pred_regression = LSTM_fun_keras_att(INPUT_DIM, X_train, y_train_regression, X_test, y_test_regression,seq_len=past_steps)\n"
      ],
      "execution_count": null,
      "outputs": [
        {
          "output_type": "stream",
          "text": [
            "(None, 1, 32)\n",
            "(None, 64)\n",
            "Model: \"functional_9\"\n",
            "__________________________________________________________________________________________________\n",
            "Layer (type)                    Output Shape         Param #     Connected to                     \n",
            "==================================================================================================\n",
            "input_5 (InputLayer)            [(None, 15, 5)]      0                                            \n",
            "__________________________________________________________________________________________________\n",
            "conv1d_4 (Conv1D)               (None, 15, 32)       192         input_5[0][0]                    \n",
            "__________________________________________________________________________________________________\n",
            "max_pooling1d_4 (MaxPooling1D)  (None, 1, 32)        0           conv1d_4[0][0]                   \n",
            "__________________________________________________________________________________________________\n",
            "dropout_4 (Dropout)             (None, 1, 32)        0           max_pooling1d_4[0][0]            \n",
            "__________________________________________________________________________________________________\n",
            "bilstm (Bidirectional)          (None, 64)           16640       dropout_4[0][0]                  \n",
            "__________________________________________________________________________________________________\n",
            "attention_vec (Dense)           (None, 64)           4160        bilstm[0][0]                     \n",
            "__________________________________________________________________________________________________\n",
            "multiply_4 (Multiply)           (None, 64)           0           bilstm[0][0]                     \n",
            "                                                                 attention_vec[0][0]              \n",
            "__________________________________________________________________________________________________\n",
            "dense_4 (Dense)                 (None, 1)            65          multiply_4[0][0]                 \n",
            "==================================================================================================\n",
            "Total params: 21,057\n",
            "Trainable params: 21,057\n",
            "Non-trainable params: 0\n",
            "__________________________________________________________________________________________________\n",
            "None\n",
            "Train on 1797 samples, validate on 200 samples\n",
            "Epoch 1/2000\n",
            "1797/1797 - 4s - loss: 289169.0069 - val_loss: 5100.8775\n",
            "Epoch 2/2000\n",
            "1797/1797 - 4s - loss: 19300.8242 - val_loss: 2249.5096\n",
            "Epoch 3/2000\n",
            "1797/1797 - 4s - loss: 17784.7620 - val_loss: 2277.0539\n",
            "Epoch 4/2000\n",
            "1797/1797 - 4s - loss: 16669.0736 - val_loss: 2058.0859\n",
            "Epoch 5/2000\n",
            "1797/1797 - 4s - loss: 16380.3035 - val_loss: 1401.5615\n",
            "Epoch 6/2000\n",
            "1797/1797 - 4s - loss: 16533.2371 - val_loss: 1580.6896\n",
            "Epoch 7/2000\n",
            "1797/1797 - 4s - loss: 15647.9138 - val_loss: 2647.7855\n",
            "Epoch 00007: early stopping\n"
          ],
          "name": "stdout"
        }
      ]
    },
    {
      "cell_type": "code",
      "metadata": {
        "id": "fB-Bh4l-INXh",
        "outputId": "724c3e7d-6910-427e-a3e7-b45b6a802666",
        "colab": {
          "base_uri": "https://localhost:8080/",
          "height": 265
        }
      },
      "source": [
        "# plot training history\n",
        "plt.plot(y_test_regression, label='test')\n",
        "plt.plot(y_pred_regression, label='pred')\n",
        "plt.legend()\n",
        "plt.show()"
      ],
      "execution_count": null,
      "outputs": [
        {
          "output_type": "display_data",
          "data": {
            "image/png": "[encoded data removed]",
            "text/plain": [
              "<Figure size 432x288 with 1 Axes>"
            ]
          },
          "metadata": {
            "tags": [],
            "needs_background": "light"
          }
        }
      ]
    },
    {
      "cell_type": "code",
      "metadata": {
        "id": "qXCwsEbKINaR"
      },
      "source": [
        "import numpy as np\n",
        "def MAPE(true, pred):\n",
        "    diff = np.abs(np.array(true) - np.array(pred))\n",
        "    return np.mean(diff / true)"
      ],
      "execution_count": null,
      "outputs": []
    },
    {
      "cell_type": "code",
      "metadata": {
        "id": "MW-Unl_0INcV",
        "outputId": "0fb8db2b-2ce5-41e9-b7c6-1d5a8b6b9249",
        "colab": {
          "base_uri": "https://localhost:8080/",
          "height": 34
        }
      },
      "source": [
        "print(MAPE(y_test_regression,y_pred_regression))"
      ],
      "execution_count": null,
      "outputs": [
        {
          "output_type": "stream",
          "text": [
            "0.06816201860948744\n"
          ],
          "name": "stdout"
        }
      ]
    },
    {
      "cell_type": "code",
      "metadata": {
        "id": "kRJHB8h4Z1Mz"
      },
      "source": [
        ""
      ],
      "execution_count": null,
      "outputs": []
    },
    {
      "cell_type": "code",
      "metadata": {
        "id": "EEihOkC4Z1Pa"
      },
      "source": [
        ""
      ],
      "execution_count": null,
      "outputs": []
    },
    {
      "cell_type": "code",
      "metadata": {
        "id": "IImxD-IQZ1Rl"
      },
      "source": [
        ""
      ],
      "execution_count": null,
      "outputs": []
    },
    {
      "cell_type": "code",
      "metadata": {
        "id": "zmKeKzWlII2j",
        "outputId": "beae07b5-c4e4-4535-bd9f-79db168bc56f",
        "colab": {
          "resources": {
            "http://localhost:8080/nbextensions/google.colab/files.js": {
              "data": "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",
              "ok": true,
              "headers": [
                [
                  "content-type",
                  "application/javascript"
                ]
              ],
              "status": 200,
              "status_text": ""
            }
          },
          "base_uri": "https://localhost:8080/",
          "height": 72
        }
      },
      "source": [
        "##### HS300\n",
        "\n",
        "from google.colab import files\n",
        "uploaded = files.upload()"
      ],
      "execution_count": null,
      "outputs": [
        {
          "output_type": "display_data",
          "data": {
            "text/html": [
              "\n",
              "     <input type=\"file\" id=\"files-43f3638b-a17c-4da8-9107-556dd550cfac\" name=\"files[]\" multiple disabled\n",
              "        style=\"border:none\" />\n",
              "     <output id=\"result-43f3638b-a17c-4da8-9107-556dd550cfac\">\n",
              "      Upload widget is only available when the cell has been executed in the\n",
              "      current browser session. Please rerun this cell to enable.\n",
              "      </output>\n",
              "      <script src=\"/nbextensions/google.colab/files.js\"></script> "
            ],
            "text/plain": [
              "<IPython.core.display.HTML object>"
            ]
          },
          "metadata": {
            "tags": []
          }
        },
        {
          "output_type": "stream",
          "text": [
            "Saving HS300.csv to HS300.csv\n"
          ],
          "name": "stdout"
        }
      ]
    },
    {
      "cell_type": "code",
      "metadata": {
        "id": "5dBME0XhItHd",
        "outputId": "f67f5723-4337-48cf-f985-4f6a462cabcc",
        "colab": {
          "base_uri": "https://localhost:8080/",
          "height": 419
        }
      },
      "source": [
        "import pandas as pd\n",
        "import io\n",
        "\n",
        "hs = pd.read_csv(io.StringIO(uploaded['HS300.csv'].decode('utf-8')))\n",
        "hs"
      ],
      "execution_count": null,
      "outputs": [
        {
          "output_type": "execute_result",
          "data": {
            "text/html": [
              "<div>\n",
              "<style scoped>\n",
              "    .dataframe tbody tr th:only-of-type {\n",
              "        vertical-align: middle;\n",
              "    }\n",
              "\n",
              "    .dataframe tbody tr th {\n",
              "        vertical-align: top;\n",
              "    }\n",
              "\n",
              "    .dataframe thead th {\n",
              "        text-align: right;\n",
              "    }\n",
              "</style>\n",
              "<table border=\"1\" class=\"dataframe\">\n",
              "  <thead>\n",
              "    <tr style=\"text-align: right;\">\n",
              "      <th></th>\n",
              "      <th>date</th>\n",
              "      <th>p_close</th>\n",
              "      <th>open</th>\n",
              "      <th>high</th>\n",
              "      <th>low</th>\n",
              "      <th>close</th>\n",
              "      <th>volume</th>\n",
              "    </tr>\n",
              "  </thead>\n",
              "  <tbody>\n",
              "    <tr>\n",
              "      <th>0</th>\n",
              "      <td>2010/1/4</td>\n",
              "      <td>3575.6840</td>\n",
              "      <td>3592.4680</td>\n",
              "      <td>3597.7480</td>\n",
              "      <td>3535.2290</td>\n",
              "      <td>3535.2290</td>\n",
              "      <td>6610108000</td>\n",
              "    </tr>\n",
              "    <tr>\n",
              "      <th>1</th>\n",
              "      <td>2010/1/5</td>\n",
              "      <td>3535.2290</td>\n",
              "      <td>3545.1860</td>\n",
              "      <td>3577.5260</td>\n",
              "      <td>3497.6610</td>\n",
              "      <td>3564.0380</td>\n",
              "      <td>8580964100</td>\n",
              "    </tr>\n",
              "    <tr>\n",
              "      <th>2</th>\n",
              "      <td>2010/1/6</td>\n",
              "      <td>3564.0380</td>\n",
              "      <td>3558.7000</td>\n",
              "      <td>3588.8320</td>\n",
              "      <td>3541.1730</td>\n",
              "      <td>3541.7270</td>\n",
              "      <td>7847312500</td>\n",
              "    </tr>\n",
              "    <tr>\n",
              "      <th>3</th>\n",
              "      <td>2010/1/7</td>\n",
              "      <td>3541.7270</td>\n",
              "      <td>3543.1600</td>\n",
              "      <td>3558.5560</td>\n",
              "      <td>3452.7690</td>\n",
              "      <td>3471.4560</td>\n",
              "      <td>8035003700</td>\n",
              "    </tr>\n",
              "    <tr>\n",
              "      <th>4</th>\n",
              "      <td>2010/1/8</td>\n",
              "      <td>3471.4560</td>\n",
              "      <td>3456.9080</td>\n",
              "      <td>3482.0830</td>\n",
              "      <td>3426.6980</td>\n",
              "      <td>3480.1300</td>\n",
              "      <td>6079025300</td>\n",
              "    </tr>\n",
              "    <tr>\n",
              "      <th>...</th>\n",
              "      <td>...</td>\n",
              "      <td>...</td>\n",
              "      <td>...</td>\n",
              "      <td>...</td>\n",
              "      <td>...</td>\n",
              "      <td>...</td>\n",
              "      <td>...</td>\n",
              "    </tr>\n",
              "    <tr>\n",
              "      <th>2426</th>\n",
              "      <td>2019/12/25</td>\n",
              "      <td>3992.9581</td>\n",
              "      <td>3988.6574</td>\n",
              "      <td>4000.5556</td>\n",
              "      <td>3976.3559</td>\n",
              "      <td>3990.8671</td>\n",
              "      <td>9493889000</td>\n",
              "    </tr>\n",
              "    <tr>\n",
              "      <th>2427</th>\n",
              "      <td>2019/12/26</td>\n",
              "      <td>3990.8671</td>\n",
              "      <td>3993.6686</td>\n",
              "      <td>4025.9879</td>\n",
              "      <td>3993.5413</td>\n",
              "      <td>4025.9879</td>\n",
              "      <td>10886064000</td>\n",
              "    </tr>\n",
              "    <tr>\n",
              "      <th>2428</th>\n",
              "      <td>2019/12/27</td>\n",
              "      <td>4025.9879</td>\n",
              "      <td>4029.2454</td>\n",
              "      <td>4066.7964</td>\n",
              "      <td>4019.7223</td>\n",
              "      <td>4022.0278</td>\n",
              "      <td>15092641100</td>\n",
              "    </tr>\n",
              "    <tr>\n",
              "      <th>2429</th>\n",
              "      <td>2019/12/30</td>\n",
              "      <td>4022.0278</td>\n",
              "      <td>4015.5195</td>\n",
              "      <td>4083.6901</td>\n",
              "      <td>4001.4951</td>\n",
              "      <td>4081.6334</td>\n",
              "      <td>15597148800</td>\n",
              "    </tr>\n",
              "    <tr>\n",
              "      <th>2430</th>\n",
              "      <td>2019/12/31</td>\n",
              "      <td>4081.6334</td>\n",
              "      <td>4077.7519</td>\n",
              "      <td>4098.1444</td>\n",
              "      <td>4069.0086</td>\n",
              "      <td>4096.5821</td>\n",
              "      <td>12326425800</td>\n",
              "    </tr>\n",
              "  </tbody>\n",
              "</table>\n",
              "<p>2431 rows × 7 columns</p>\n",
              "</div>"
            ],
            "text/plain": [
              "            date    p_close       open  ...        low      close       volume\n",
              "0       2010/1/4  3575.6840  3592.4680  ...  3535.2290  3535.2290   6610108000\n",
              "1       2010/1/5  3535.2290  3545.1860  ...  3497.6610  3564.0380   8580964100\n",
              "2       2010/1/6  3564.0380  3558.7000  ...  3541.1730  3541.7270   7847312500\n",
              "3       2010/1/7  3541.7270  3543.1600  ...  3452.7690  3471.4560   8035003700\n",
              "4       2010/1/8  3471.4560  3456.9080  ...  3426.6980  3480.1300   6079025300\n",
              "...          ...        ...        ...  ...        ...        ...          ...\n",
              "2426  2019/12/25  3992.9581  3988.6574  ...  3976.3559  3990.8671   9493889000\n",
              "2427  2019/12/26  3990.8671  3993.6686  ...  3993.5413  4025.9879  10886064000\n",
              "2428  2019/12/27  4025.9879  4029.2454  ...  4019.7223  4022.0278  15092641100\n",
              "2429  2019/12/30  4022.0278  4015.5195  ...  4001.4951  4081.6334  15597148800\n",
              "2430  2019/12/31  4081.6334  4077.7519  ...  4069.0086  4096.5821  12326425800\n",
              "\n",
              "[2431 rows x 7 columns]"
            ]
          },
          "metadata": {
            "tags": []
          },
          "execution_count": 22
        }
      ]
    },
    {
      "cell_type": "code",
      "metadata": {
        "id": "Eh85SiDoItKE",
        "outputId": "521fcb18-3f3f-463d-9b75-10e367ac52e3",
        "colab": {
          "base_uri": "https://localhost:8080/",
          "height": 153
        }
      },
      "source": [
        "hs.dtypes"
      ],
      "execution_count": null,
      "outputs": [
        {
          "output_type": "execute_result",
          "data": {
            "text/plain": [
              "date        object\n",
              "p_close    float64\n",
              "open       float64\n",
              "high       float64\n",
              "low        float64\n",
              "close      float64\n",
              "volume       int64\n",
              "dtype: object"
            ]
          },
          "metadata": {
            "tags": []
          },
          "execution_count": 24
        }
      ]
    },
    {
      "cell_type": "code",
      "metadata": {
        "id": "N2fY7dFpItMK",
        "outputId": "72ceaa75-7d85-4d1f-a1aa-0fb88f62413e",
        "colab": {
          "base_uri": "https://localhost:8080/",
          "height": 419
        }
      },
      "source": [
        "hs[['volume']] = hs[['volume']].astype('float')\n",
        "hs_feature = hs[['p_close','open','high','low','volume']]\n",
        "hs_feature.columns = [['close','open','high','low','volume']]\n",
        "hs_feature"
      ],
      "execution_count": null,
      "outputs": [
        {
          "output_type": "execute_result",
          "data": {
            "text/html": [
              "<div>\n",
              "<style scoped>\n",
              "    .dataframe tbody tr th:only-of-type {\n",
              "        vertical-align: middle;\n",
              "    }\n",
              "\n",
              "    .dataframe tbody tr th {\n",
              "        vertical-align: top;\n",
              "    }\n",
              "\n",
              "    .dataframe thead tr th {\n",
              "        text-align: left;\n",
              "    }\n",
              "</style>\n",
              "<table border=\"1\" class=\"dataframe\">\n",
              "  <thead>\n",
              "    <tr>\n",
              "      <th></th>\n",
              "      <th>close</th>\n",
              "      <th>open</th>\n",
              "      <th>high</th>\n",
              "      <th>low</th>\n",
              "      <th>volume</th>\n",
              "    </tr>\n",
              "  </thead>\n",
              "  <tbody>\n",
              "    <tr>\n",
              "      <th>0</th>\n",
              "      <td>3575.6840</td>\n",
              "      <td>3592.4680</td>\n",
              "      <td>3597.7480</td>\n",
              "      <td>3535.2290</td>\n",
              "      <td>6.610108e+09</td>\n",
              "    </tr>\n",
              "    <tr>\n",
              "      <th>1</th>\n",
              "      <td>3535.2290</td>\n",
              "      <td>3545.1860</td>\n",
              "      <td>3577.5260</td>\n",
              "      <td>3497.6610</td>\n",
              "      <td>8.580964e+09</td>\n",
              "    </tr>\n",
              "    <tr>\n",
              "      <th>2</th>\n",
              "      <td>3564.0380</td>\n",
              "      <td>3558.7000</td>\n",
              "      <td>3588.8320</td>\n",
              "      <td>3541.1730</td>\n",
              "      <td>7.847312e+09</td>\n",
              "    </tr>\n",
              "    <tr>\n",
              "      <th>3</th>\n",
              "      <td>3541.7270</td>\n",
              "      <td>3543.1600</td>\n",
              "      <td>3558.5560</td>\n",
              "      <td>3452.7690</td>\n",
              "      <td>8.035004e+09</td>\n",
              "    </tr>\n",
              "    <tr>\n",
              "      <th>4</th>\n",
              "      <td>3471.4560</td>\n",
              "      <td>3456.9080</td>\n",
              "      <td>3482.0830</td>\n",
              "      <td>3426.6980</td>\n",
              "      <td>6.079025e+09</td>\n",
              "    </tr>\n",
              "    <tr>\n",
              "      <th>...</th>\n",
              "      <td>...</td>\n",
              "      <td>...</td>\n",
              "      <td>...</td>\n",
              "      <td>...</td>\n",
              "      <td>...</td>\n",
              "    </tr>\n",
              "    <tr>\n",
              "      <th>2426</th>\n",
              "      <td>3992.9581</td>\n",
              "      <td>3988.6574</td>\n",
              "      <td>4000.5556</td>\n",
              "      <td>3976.3559</td>\n",
              "      <td>9.493889e+09</td>\n",
              "    </tr>\n",
              "    <tr>\n",
              "      <th>2427</th>\n",
              "      <td>3990.8671</td>\n",
              "      <td>3993.6686</td>\n",
              "      <td>4025.9879</td>\n",
              "      <td>3993.5413</td>\n",
              "      <td>1.088606e+10</td>\n",
              "    </tr>\n",
              "    <tr>\n",
              "      <th>2428</th>\n",
              "      <td>4025.9879</td>\n",
              "      <td>4029.2454</td>\n",
              "      <td>4066.7964</td>\n",
              "      <td>4019.7223</td>\n",
              "      <td>1.509264e+10</td>\n",
              "    </tr>\n",
              "    <tr>\n",
              "      <th>2429</th>\n",
              "      <td>4022.0278</td>\n",
              "      <td>4015.5195</td>\n",
              "      <td>4083.6901</td>\n",
              "      <td>4001.4951</td>\n",
              "      <td>1.559715e+10</td>\n",
              "    </tr>\n",
              "    <tr>\n",
              "      <th>2430</th>\n",
              "      <td>4081.6334</td>\n",
              "      <td>4077.7519</td>\n",
              "      <td>4098.1444</td>\n",
              "      <td>4069.0086</td>\n",
              "      <td>1.232643e+10</td>\n",
              "    </tr>\n",
              "  </tbody>\n",
              "</table>\n",
              "<p>2431 rows × 5 columns</p>\n",
              "</div>"
            ],
            "text/plain": [
              "          close       open       high        low        volume\n",
              "0     3575.6840  3592.4680  3597.7480  3535.2290  6.610108e+09\n",
              "1     3535.2290  3545.1860  3577.5260  3497.6610  8.580964e+09\n",
              "2     3564.0380  3558.7000  3588.8320  3541.1730  7.847312e+09\n",
              "3     3541.7270  3543.1600  3558.5560  3452.7690  8.035004e+09\n",
              "4     3471.4560  3456.9080  3482.0830  3426.6980  6.079025e+09\n",
              "...         ...        ...        ...        ...           ...\n",
              "2426  3992.9581  3988.6574  4000.5556  3976.3559  9.493889e+09\n",
              "2427  3990.8671  3993.6686  4025.9879  3993.5413  1.088606e+10\n",
              "2428  4025.9879  4029.2454  4066.7964  4019.7223  1.509264e+10\n",
              "2429  4022.0278  4015.5195  4083.6901  4001.4951  1.559715e+10\n",
              "2430  4081.6334  4077.7519  4098.1444  4069.0086  1.232643e+10\n",
              "\n",
              "[2431 rows x 5 columns]"
            ]
          },
          "metadata": {
            "tags": []
          },
          "execution_count": 26
        }
      ]
    },
    {
      "cell_type": "code",
      "metadata": {
        "id": "7YSIQJzEXIGI",
        "outputId": "e24ef7bb-5221-4670-ae03-d8652b756cb1",
        "colab": {
          "base_uri": "https://localhost:8080/",
          "height": 419
        }
      },
      "source": [
        "hs.iloc[:1944,:]"
      ],
      "execution_count": null,
      "outputs": [
        {
          "output_type": "execute_result",
          "data": {
            "text/html": [
              "<div>\n",
              "<style scoped>\n",
              "    .dataframe tbody tr th:only-of-type {\n",
              "        vertical-align: middle;\n",
              "    }\n",
              "\n",
              "    .dataframe tbody tr th {\n",
              "        vertical-align: top;\n",
              "    }\n",
              "\n",
              "    .dataframe thead th {\n",
              "        text-align: right;\n",
              "    }\n",
              "</style>\n",
              "<table border=\"1\" class=\"dataframe\">\n",
              "  <thead>\n",
              "    <tr style=\"text-align: right;\">\n",
              "      <th></th>\n",
              "      <th>date</th>\n",
              "      <th>p_close</th>\n",
              "      <th>open</th>\n",
              "      <th>high</th>\n",
              "      <th>low</th>\n",
              "      <th>close</th>\n",
              "      <th>volume</th>\n",
              "    </tr>\n",
              "  </thead>\n",
              "  <tbody>\n",
              "    <tr>\n",
              "      <th>0</th>\n",
              "      <td>2010/1/4</td>\n",
              "      <td>3575.6840</td>\n",
              "      <td>3592.4680</td>\n",
              "      <td>3597.7480</td>\n",
              "      <td>3535.2290</td>\n",
              "      <td>3535.2290</td>\n",
              "      <td>6.610108e+09</td>\n",
              "    </tr>\n",
              "    <tr>\n",
              "      <th>1</th>\n",
              "      <td>2010/1/5</td>\n",
              "      <td>3535.2290</td>\n",
              "      <td>3545.1860</td>\n",
              "      <td>3577.5260</td>\n",
              "      <td>3497.6610</td>\n",
              "      <td>3564.0380</td>\n",
              "      <td>8.580964e+09</td>\n",
              "    </tr>\n",
              "    <tr>\n",
              "      <th>2</th>\n",
              "      <td>2010/1/6</td>\n",
              "      <td>3564.0380</td>\n",
              "      <td>3558.7000</td>\n",
              "      <td>3588.8320</td>\n",
              "      <td>3541.1730</td>\n",
              "      <td>3541.7270</td>\n",
              "      <td>7.847312e+09</td>\n",
              "    </tr>\n",
              "    <tr>\n",
              "      <th>3</th>\n",
              "      <td>2010/1/7</td>\n",
              "      <td>3541.7270</td>\n",
              "      <td>3543.1600</td>\n",
              "      <td>3558.5560</td>\n",
              "      <td>3452.7690</td>\n",
              "      <td>3471.4560</td>\n",
              "      <td>8.035004e+09</td>\n",
              "    </tr>\n",
              "    <tr>\n",
              "      <th>4</th>\n",
              "      <td>2010/1/8</td>\n",
              "      <td>3471.4560</td>\n",
              "      <td>3456.9080</td>\n",
              "      <td>3482.0830</td>\n",
              "      <td>3426.6980</td>\n",
              "      <td>3480.1300</td>\n",
              "      <td>6.079025e+09</td>\n",
              "    </tr>\n",
              "    <tr>\n",
              "      <th>...</th>\n",
              "      <td>...</td>\n",
              "      <td>...</td>\n",
              "      <td>...</td>\n",
              "      <td>...</td>\n",
              "      <td>...</td>\n",
              "      <td>...</td>\n",
              "      <td>...</td>\n",
              "    </tr>\n",
              "    <tr>\n",
              "      <th>1939</th>\n",
              "      <td>2017/12/25</td>\n",
              "      <td>4054.5984</td>\n",
              "      <td>4057.4173</td>\n",
              "      <td>4086.9342</td>\n",
              "      <td>4026.4496</td>\n",
              "      <td>4041.5401</td>\n",
              "      <td>9.192696e+09</td>\n",
              "    </tr>\n",
              "    <tr>\n",
              "      <th>1940</th>\n",
              "      <td>2017/12/26</td>\n",
              "      <td>4041.5401</td>\n",
              "      <td>4040.6173</td>\n",
              "      <td>4056.8554</td>\n",
              "      <td>4015.2996</td>\n",
              "      <td>4053.6224</td>\n",
              "      <td>9.111879e+09</td>\n",
              "    </tr>\n",
              "    <tr>\n",
              "      <th>1941</th>\n",
              "      <td>2017/12/27</td>\n",
              "      <td>4053.6224</td>\n",
              "      <td>4045.2793</td>\n",
              "      <td>4047.7366</td>\n",
              "      <td>3986.7385</td>\n",
              "      <td>3991.2075</td>\n",
              "      <td>1.051536e+10</td>\n",
              "    </tr>\n",
              "    <tr>\n",
              "      <th>1942</th>\n",
              "      <td>2017/12/28</td>\n",
              "      <td>3991.2075</td>\n",
              "      <td>3992.9970</td>\n",
              "      <td>4036.6975</td>\n",
              "      <td>3980.2358</td>\n",
              "      <td>4018.8974</td>\n",
              "      <td>1.185429e+10</td>\n",
              "    </tr>\n",
              "    <tr>\n",
              "      <th>1943</th>\n",
              "      <td>2017/12/29</td>\n",
              "      <td>4018.8974</td>\n",
              "      <td>4022.8826</td>\n",
              "      <td>4043.1400</td>\n",
              "      <td>4012.8749</td>\n",
              "      <td>4030.8549</td>\n",
              "      <td>9.048668e+09</td>\n",
              "    </tr>\n",
              "  </tbody>\n",
              "</table>\n",
              "<p>1944 rows × 7 columns</p>\n",
              "</div>"
            ],
            "text/plain": [
              "            date    p_close       open  ...        low      close        volume\n",
              "0       2010/1/4  3575.6840  3592.4680  ...  3535.2290  3535.2290  6.610108e+09\n",
              "1       2010/1/5  3535.2290  3545.1860  ...  3497.6610  3564.0380  8.580964e+09\n",
              "2       2010/1/6  3564.0380  3558.7000  ...  3541.1730  3541.7270  7.847312e+09\n",
              "3       2010/1/7  3541.7270  3543.1600  ...  3452.7690  3471.4560  8.035004e+09\n",
              "4       2010/1/8  3471.4560  3456.9080  ...  3426.6980  3480.1300  6.079025e+09\n",
              "...          ...        ...        ...  ...        ...        ...           ...\n",
              "1939  2017/12/25  4054.5984  4057.4173  ...  4026.4496  4041.5401  9.192696e+09\n",
              "1940  2017/12/26  4041.5401  4040.6173  ...  4015.2996  4053.6224  9.111879e+09\n",
              "1941  2017/12/27  4053.6224  4045.2793  ...  3986.7385  3991.2075  1.051536e+10\n",
              "1942  2017/12/28  3991.2075  3992.9970  ...  3980.2358  4018.8974  1.185429e+10\n",
              "1943  2017/12/29  4018.8974  4022.8826  ...  4012.8749  4030.8549  9.048668e+09\n",
              "\n",
              "[1944 rows x 7 columns]"
            ]
          },
          "metadata": {
            "tags": []
          },
          "execution_count": 33
        }
      ]
    },
    {
      "cell_type": "code",
      "metadata": {
        "id": "TPYs9udQItOb",
        "outputId": "a1f7bc46-297c-4279-ee96-3e3d3797c3a3",
        "colab": {
          "base_uri": "https://localhost:8080/",
          "height": 34
        }
      },
      "source": [
        "hs_train = hs_feature.iloc[:1944, :]\n",
        "hs_test = hs_feature.iloc[1944:, :]\n",
        "print(hs_train.shape, hs_test.shape)"
      ],
      "execution_count": null,
      "outputs": [
        {
          "output_type": "stream",
          "text": [
            "(1944, 5) (487, 5)\n"
          ],
          "name": "stdout"
        }
      ]
    },
    {
      "cell_type": "code",
      "metadata": {
        "id": "bopivv48GTz3"
      },
      "source": [
        "# 一阶差分\n",
        "scaler = MinMaxScaler(feature_range = (0,1))\n",
        "hs_train = scaler.fit_transform(hs_train)\n",
        "hs_test = scaler.transform(hs_test)"
      ],
      "execution_count": null,
      "outputs": []
    },
    {
      "cell_type": "code",
      "metadata": {
        "id": "3m9EuJ7EXsIb",
        "outputId": "fa79f773-351e-49c0-b185-f1d3afb30de5",
        "colab": {
          "base_uri": "https://localhost:8080/",
          "height": 34
        }
      },
      "source": [
        "y_train_hs = np.array(hs_feature.iloc[:1944, 0])\n",
        "y_test_hs = np.array(hs_feature.iloc[1944:, 0])\n",
        "print(y_train_hs.shape, y_test_hs.shape)"
      ],
      "execution_count": null,
      "outputs": [
        {
          "output_type": "stream",
          "text": [
            "(1944,) (487,)\n"
          ],
          "name": "stdout"
        }
      ]
    },
    {
      "cell_type": "code",
      "metadata": {
        "id": "L3h2dgddYDD0"
      },
      "source": [
        "past_steps = 10\n",
        "next_steps = 3"
      ],
      "execution_count": null,
      "outputs": []
    },
    {
      "cell_type": "code",
      "metadata": {
        "id": "DhMtZ5WuYIbA"
      },
      "source": [
        "X_train_hs = np.array([hs_train[i : i + past_steps, :] for i in range(0, hs_train.shape[0] - (next_steps+ past_steps),1)])\n",
        "X_test_hs = np.array([hs_test[i : i + past_steps, :] for i in range(0, hs_test.shape[0] - (next_steps+ past_steps),1)])\n"
      ],
      "execution_count": null,
      "outputs": []
    },
    {
      "cell_type": "code",
      "metadata": {
        "id": "MsLnY0piYUvC"
      },
      "source": [
        "y_train_regression_hs = np.array([y_train_hs[i + past_steps + next_steps] for i in range(0, hs_train.shape[0] - (next_steps+ past_steps),1)])\n",
        "y_test_regression_hs = np.array([y_test_hs[i + past_steps + next_steps] for i in range(0, hs_test.shape[0] - (next_steps+ past_steps),1)])\n"
      ],
      "execution_count": null,
      "outputs": []
    },
    {
      "cell_type": "code",
      "metadata": {
        "id": "x-nG-fP1ZWDC"
      },
      "source": [
        "def LSTM_fun_keras_att(n_input,train_x,train_y,predict_x,prediction_y,seq_len=5):\n",
        "    tf.compat.v1.keras.backend.get_session().close()\n",
        "    tf.compat.v1.keras.backend.set_session(tf.compat.v1.Session())\n",
        "    tf.compat.v1.keras.backend.get_session().run(tf.compat.v1.global_variables_initializer())\n",
        "    inputs = Input(shape=(seq_len, n_input))\n",
        "    #drop1 = Dropout(0.3)(inputs)\n",
        "    x = Conv1D(filters = 32, kernel_size = 1, activation = 'relu')(inputs)  #, padding = 'same'\n",
        "    #x = Conv1D(filters=128, kernel_size=5, activation='relu')(output1)#embedded_sequences\n",
        "    x = MaxPooling1D(pool_size = past_steps)(x)\n",
        "    x = Dropout(0.1)(x)\n",
        "    print(x.shape)\n",
        "    lstm_out = Bidirectional(LSTM(32, activation='relu'), name='bilstm')(x)\n",
        "    #lstm_out = LSTM(lstm_units,activation='relu')(x)\n",
        "    print(lstm_out.shape)\n",
        "    # ATTENTION PART STARTS HERE\n",
        "    attention_probs = Dense(64, activation='sigmoid', name='attention_vec')(lstm_out)\n",
        "    #attention_mul=layers.merge([stm_out,attention_probs], output_shape],mode='concat',concat_axis=1))\n",
        "    attention_mul =Multiply()([lstm_out, attention_probs])\n",
        "    #attention_mul = merge([lstm_out, attention_probs],output_shape=32, name='attention_mul', mode='mul')\n",
        "    output = Dense(1, activation='linear')(attention_mul)\n",
        "    #output = Dense(10, activation='sigmoid')(drop2)\n",
        "\n",
        "    model = Model(inputs=inputs, outputs=output)\n",
        "    print(model.summary())\n",
        "    model.compile(loss='mse', optimizer='adam')\n",
        "    #model_class.compile(optimizer='rmsprop',loss='binary_crossentropy',metrics=['accuracy'])\n",
        "    # simple early stopping\n",
        "    es = EarlyStopping(monitor='val_loss', mode='min', verbose=1, patience=2)\n",
        "    # fit model\n",
        "    history = model.fit(train_x, train_y,validation_split=0.1, epochs=epochs, batch_size=1, shuffle=False, verbose=2, callbacks=[es])\n",
        "    #history = model.fit(train_x, train_y, epochs=100, batch_size=1, shuffle=False)\n",
        "    y_pred = model.predict(predict_x)\n",
        "    return y_pred"
      ],
      "execution_count": null,
      "outputs": []
    },
    {
      "cell_type": "code",
      "metadata": {
        "id": "gtH2shZxZcnQ",
        "outputId": "9136988c-12e5-4971-d4d0-92f5980351ce",
        "colab": {
          "base_uri": "https://localhost:8080/",
          "height": 799
        }
      },
      "source": [
        "y_pred_regression_hs = LSTM_fun_keras_att(INPUT_DIM, X_train_hs, y_train_regression_hs, X_test_hs, y_test_regression_hs, seq_len=past_steps)\n"
      ],
      "execution_count": null,
      "outputs": [
        {
          "output_type": "stream",
          "text": [
            "(None, 1, 32)\n",
            "(None, 64)\n",
            "Model: \"functional_5\"\n",
            "__________________________________________________________________________________________________\n",
            "Layer (type)                    Output Shape         Param #     Connected to                     \n",
            "==================================================================================================\n",
            "input_3 (InputLayer)            [(None, 10, 5)]      0                                            \n",
            "__________________________________________________________________________________________________\n",
            "conv1d_2 (Conv1D)               (None, 10, 32)       192         input_3[0][0]                    \n",
            "__________________________________________________________________________________________________\n",
            "max_pooling1d_2 (MaxPooling1D)  (None, 1, 32)        0           conv1d_2[0][0]                   \n",
            "__________________________________________________________________________________________________\n",
            "dropout_2 (Dropout)             (None, 1, 32)        0           max_pooling1d_2[0][0]            \n",
            "__________________________________________________________________________________________________\n",
            "bilstm (Bidirectional)          (None, 64)           16640       dropout_2[0][0]                  \n",
            "__________________________________________________________________________________________________\n",
            "attention_vec (Dense)           (None, 64)           4160        bilstm[0][0]                     \n",
            "__________________________________________________________________________________________________\n",
            "multiply_2 (Multiply)           (None, 64)           0           bilstm[0][0]                     \n",
            "                                                                 attention_vec[0][0]              \n",
            "__________________________________________________________________________________________________\n",
            "dense_2 (Dense)                 (None, 1)            65          multiply_2[0][0]                 \n",
            "==================================================================================================\n",
            "Total params: 21,057\n",
            "Trainable params: 21,057\n",
            "Non-trainable params: 0\n",
            "__________________________________________________________________________________________________\n",
            "None\n",
            "Train on 1737 samples, validate on 194 samples\n",
            "Epoch 1/2000\n",
            "1737/1737 - 4s - loss: 3084589.3176 - val_loss: 18225.2295\n",
            "Epoch 2/2000\n",
            "1737/1737 - 3s - loss: 104649.8173 - val_loss: 13054.5873\n",
            "Epoch 3/2000\n",
            "1737/1737 - 4s - loss: 101264.3932 - val_loss: 10182.5373\n",
            "Epoch 4/2000\n",
            "1737/1737 - 4s - loss: 88916.9482 - val_loss: 8079.6110\n",
            "Epoch 5/2000\n",
            "1737/1737 - 4s - loss: 81736.9230 - val_loss: 8006.2657\n",
            "Epoch 6/2000\n",
            "1737/1737 - 4s - loss: 76494.6275 - val_loss: 5838.5145\n",
            "Epoch 7/2000\n",
            "1737/1737 - 4s - loss: 70750.2607 - val_loss: 6584.2413\n",
            "Epoch 8/2000\n",
            "1737/1737 - 4s - loss: 77000.6607 - val_loss: 8698.6783\n",
            "Epoch 00008: early stopping\n"
          ],
          "name": "stdout"
        }
      ]
    },
    {
      "cell_type": "code",
      "metadata": {
        "id": "QxOH8gI5aBxk",
        "outputId": "4806afe2-3823-4149-9d7b-e213913b2315",
        "colab": {
          "base_uri": "https://localhost:8080/",
          "height": 265
        }
      },
      "source": [
        "# plot training history\n",
        "plt.plot(y_test_regression_hs, label='HS_test')\n",
        "plt.plot(y_pred_regression_hs, label='HS_pred')\n",
        "plt.legend()\n",
        "plt.show()"
      ],
      "execution_count": null,
      "outputs": [
        {
          "output_type": "display_data",
          "data": {
            "image/png": "[encoded data removed]",
            "text/plain": [
              "<Figure size 432x288 with 1 Axes>"
            ]
          },
          "metadata": {
            "tags": [],
            "needs_background": "light"
          }
        }
      ]
    },
    {
      "cell_type": "code",
      "metadata": {
        "id": "71fQuR9XaafQ",
        "outputId": "7e2c4df3-4996-4d86-9abf-9eb2a16ef0a0",
        "colab": {
          "base_uri": "https://localhost:8080/",
          "height": 34
        }
      },
      "source": [
        "print(MAPE(y_test_regression_hs,y_pred_regression_hs))"
      ],
      "execution_count": null,
      "outputs": [
        {
          "output_type": "stream",
          "text": [
            "0.09969648393887008\n"
          ],
          "name": "stdout"
        }
      ]
    },
    {
      "cell_type": "code",
      "metadata": {
        "id": "9FHBHBj0aewt"
      },
      "source": [
        ""
      ],
      "execution_count": null,
      "outputs": []
    }
  ]
}